{
 "cells": [
  {
   "cell_type": "code",
   "execution_count": 79,
   "metadata": {},
   "outputs": [],
   "source": [
    "import sys"
   ]
  },
  {
   "cell_type": "code",
   "execution_count": 125,
   "metadata": {},
   "outputs": [
    {
     "name": "stdout",
     "output_type": "stream",
     "text": [
      "hugafizzhoge\n",
      "\n"
     ]
    }
   ],
   "source": [
    "def fizzBuzz(args):\n",
    "    f = open(args)\n",
    "    lines = f.readlines() # 1行毎にファイル終端まで全て読む(改行文字も含まれる)\n",
    "    f.close()\n",
    "    \n",
    "    #文字を”:”で分割    \n",
    "    lines2 = list()\n",
    "    for line in lines:\n",
    "        line = line.split(\":\")\n",
    "        lines2.append(line)\n",
    "\n",
    "    \n",
    "    len1 = len(lines2) - 1 #リストの長さを取得\n",
    "    \n",
    "    m = lines2.pop(len1)    #mの値を取得、リストから削除\n",
    "  \n",
    "    m = m[0].replace(\"\\n\",\"\")#改行文字の削除\n",
    "    m = int(m)              #数値に変換\n",
    "    \n",
    "    #文字列を数値に変換\n",
    "    lines3 = list()\n",
    "    for line in lines2:\n",
    "        line[0] = int(line[0])\n",
    "        line[1] = line[1].replace(\"\\n\",\"\")\n",
    "        lines3.append(line)\n",
    "        \n",
    "    #条件分岐\n",
    "    lines4 = list()\n",
    "    for line in lines3:\n",
    "        if int(m) % line[0] == 0:\n",
    "            lines4.append(line)\n",
    "    #並び替え\n",
    "    lines4.sort()\n",
    "    \n",
    "    #出力\n",
    "    if len(lines4) == 0:\n",
    "        print(m)\n",
    "    else:\n",
    "        for line in lines4:\n",
    "            print(line[1],end='')\n",
    "    print(\"\\n\")\n",
    "    \n",
    "if __name__ == '__main__':\n",
    "    args = sys.argv\n",
    "    \n",
    "    if 2 <= len(args):\n",
    "        fizzBuzz(str(args[1]))\n",
    "        \n",
    "    else:\n",
    "        print('引数として、テキストファイルを指定してください')\n",
    "    \n",
    "    \n",
    "    "
   ]
  },
  {
   "cell_type": "code",
   "execution_count": null,
   "metadata": {},
   "outputs": [],
   "source": []
  },
  {
   "cell_type": "code",
   "execution_count": null,
   "metadata": {},
   "outputs": [],
   "source": []
  }
 ],
 "metadata": {
  "kernelspec": {
   "display_name": "Python 3",
   "language": "python",
   "name": "python3"
  },
  "language_info": {
   "codemirror_mode": {
    "name": "ipython",
    "version": 3
   },
   "file_extension": ".py",
   "mimetype": "text/x-python",
   "name": "python",
   "nbconvert_exporter": "python",
   "pygments_lexer": "ipython3",
   "version": "3.7.6"
  }
 },
 "nbformat": 4,
 "nbformat_minor": 4
}
